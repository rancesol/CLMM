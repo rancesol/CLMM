{
 "cells": [
  {
   "cell_type": "markdown",
   "id": "68dc9675-9e74-434d-aba3-e90e5a0280c6",
   "metadata": {},
   "source": [
    "# Weak lensing weights to compute the $\\Delta\\Sigma$ profile\n",
    "\n",
    "The excess surface mass density profile computed from the data is computed from a weighted average\n",
    "$$\n",
    "     \\widehat{\\Delta\\Sigma}_+(R) = \\frac{1}{\\sum\\limits_{l,s = 1} w_{l,s}}\n",
    "     \\sum\\limits_{l,s= 1}w_{l,s}\\widehat{\\Sigma_{{\\rm crit}}}(z_s, z_l)\\epsilon_+^{l,s}.\n",
    "$$\n",
    "\n",
    "where the sum runs over all lens-background source pairs, $\\epsilon_+^{l,s}$ is the tangential ellipticity, $\\Sigma_{\\rm crit}(z_s, z_l)$ is the critical surface density, and where the weights\n",
    "\n",
    "$$\n",
    "    w_{l,s} = \\frac{\\left(\\int_{z_l}^{+\\infty}\\Sigma_{\\rm crit}(z_l, z)^{-1}p(z) dz\\right)^2}{\\sigma^2_{\\rm shapenoise} + \\sigma^2_{\\rm shape\\ error}}.\n",
    "$$\n",
    "Where $p(z)$ is the photometric redshift ditribution. These weights correspond to the maximum likelihood estimator of $\\Delta\\Sigma$ (e.g., Shirasaki & Takada 2018).\n",
    "\n",
    "Identifying background galaxies can be made by considering the individual probability to be in the background of the cluster i.e. \n",
    "$$\n",
    "P(z > z_l) = \\int_{z_l}^{+\\infty} dz\\ p(z) \n",
    "$$\n",
    "to be higher than a given threshold.\n",
    "\n",
    "In this notebook, we show the `clmm` functionalities developed to compute:\n",
    "- those weights under a variety of configuration (true redhsifts or photoz, shape noise or not, ideal galaxy shapes or not).\n",
    "- the background probability $P(z > z_l)$ for each galaxy"
   ]
  },
  {
   "cell_type": "code",
   "execution_count": null,
   "id": "88e8bdd1",
   "metadata": {},
   "outputs": [],
   "source": [
    "%load_ext autoreload\n",
    "%autoreload 2\n",
    "import sys\n",
    "import os\n",
    "\n",
    "import numpy as np\n",
    "import matplotlib.pyplot as plt\n",
    "from astropy.table import Table\n",
    "import scipy\n",
    "\n",
    "import clmm\n",
    "from clmm import Cosmology\n",
    "from clmm import GalaxyCluster\n",
    "from clmm.dataops import compute_galaxy_weights\n",
    "from clmm.support import mock_data as mock\n",
    "clmm.__version__"
   ]
  },
  {
   "cell_type": "code",
   "execution_count": null,
   "id": "b8b70cdf",
   "metadata": {},
   "outputs": [],
   "source": [
    "cosmo = Cosmology(H0 = 71.0, Omega_dm0 = 0.265 - 0.0448, Omega_b0 = 0.0448, Omega_k0 = 0.0)"
   ]
  },
  {
   "cell_type": "code",
   "execution_count": null,
   "id": "4bcd70d3",
   "metadata": {},
   "outputs": [],
   "source": [
    "cluster_z = 0.4"
   ]
  },
  {
   "cell_type": "code",
   "execution_count": null,
   "id": "74790332",
   "metadata": {},
   "outputs": [],
   "source": [
    "noisy_data_z = mock.generate_galaxy_catalog(1e14, cluster_z, 4, \n",
    "                                                cosmo, \n",
    "                                                zsrc = 'chang13', \n",
    "                                                delta_so=200, \n",
    "                                                massdef='critical',\n",
    "                                                halo_profile_model='nfw', \n",
    "                                                zsrc_min=0.,\n",
    "                                                zsrc_max=3., \n",
    "                                                field_size=10., \n",
    "                                                shapenoise=0.5, \n",
    "                                                photoz_sigma_unscaled=0.05,\n",
    "                                                mean_e_err=.1,\n",
    "                                                ngals=10000)\n",
    "z_gal = noisy_data_z['ztrue']\n",
    "z_gal_photoz = noisy_data_z['pzbins']\n",
    "photoz_pdf_gal = noisy_data_z['pzpdf']\n",
    "#add redshift dependency on shape measurement error\n",
    "noisy_data_z['e_err'] = noisy_data_z['e_err']*(1 + 0.4*noisy_data_z['z'])\n",
    "cl = GalaxyCluster('mock_cluster', 0, 0, .4, noisy_data_z)"
   ]
  },
  {
   "cell_type": "markdown",
   "id": "d1e1ec03",
   "metadata": {},
   "source": [
    "## Compute the WL weights"
   ]
  },
  {
   "cell_type": "markdown",
   "id": "747e99bf",
   "metadata": {},
   "source": [
    "### using the functional interface"
   ]
  },
  {
   "cell_type": "code",
   "execution_count": null,
   "id": "05f947c3",
   "metadata": {},
   "outputs": [],
   "source": [
    "w_ls_true = compute_galaxy_weights(\n",
    "    cluster_z, cosmo,z_source = z_gal, \n",
    "    shape_component1 = noisy_data_z['e1'], shape_component2 = noisy_data_z['e2'], \n",
    "    shape_component1_err = noisy_data_z['e_err'],\n",
    "    shape_component2_err = noisy_data_z['e_err'], \n",
    "    pzpdf = None, pzbins = None,\n",
    "    use_shape_noise = False, is_deltasigma = False)"
   ]
  },
  {
   "cell_type": "markdown",
   "id": "206a9562",
   "metadata": {},
   "source": [
    "### or as a method of the `GalaxyCluster` object"
   ]
  },
  {
   "cell_type": "markdown",
   "id": "a0269fe3-5651-4749-96ee-6808e2fdee10",
   "metadata": {},
   "source": [
    "#### true redshift + no shape error"
   ]
  },
  {
   "cell_type": "markdown",
   "id": "e535f309-699d-41a2-924e-1512cbc875a5",
   "metadata": {},
   "source": [
    "$$\n",
    "w_{\\rm ls} = \\Sigma_{\\rm crit}(z_l, z_s)^{-2}\n",
    "$$"
   ]
  },
  {
   "cell_type": "code",
   "execution_count": null,
   "id": "0ce7f15d",
   "metadata": {},
   "outputs": [],
   "source": [
    "w_ls_true = cl.compute_galaxy_weights(\n",
    "    z_source='ztrue', pzpdf='pzpdf', pzbins='pzbins', \n",
    "    shape_component1 = 'e1', shape_component2 = 'e2', \n",
    "    shape_component1_err = 'e_err', shape_component2_err = 'e_err', \n",
    "    use_photoz = False, use_shape_noise = False, use_shape_error = False, \n",
    "    weight_name = 'w_ls_true', cosmo = cosmo, is_deltasigma = True, add = True)"
   ]
  },
  {
   "cell_type": "markdown",
   "id": "b5195cda-4092-470f-a2de-5d9816a8aa70",
   "metadata": {},
   "source": [
    "#### photoz + no shape errors"
   ]
  },
  {
   "cell_type": "markdown",
   "id": "5f288e2c-32cc-4f35-8744-c66c073b3024",
   "metadata": {},
   "source": [
    "$$\n",
    "w_{\\rm ls} = \\left(\\int_{z_l}^{+\\infty}\\Sigma_{\\rm crit}(z_l, z)^{-1}p(z) dz\\right)^2\n",
    "$$"
   ]
  },
  {
   "cell_type": "code",
   "execution_count": null,
   "id": "b56b9478",
   "metadata": {},
   "outputs": [],
   "source": [
    "w_ls_photoz = cl.compute_galaxy_weights(\n",
    "    z_source='ztrue', pzpdf='pzpdf', pzbins='pzbins', \n",
    "    shape_component1 = 'e1', shape_component2 = 'e2', \n",
    "    shape_component1_err = 'e_err', shape_component2_err = 'e_err', \n",
    "    use_photoz = True, use_shape_noise = False, use_shape_error = False, \n",
    "    weight_name = 'w_ls_photoz', cosmo = cosmo, is_deltasigma = True, add = True)"
   ]
  },
  {
   "cell_type": "markdown",
   "id": "8aff3684-360f-4084-9a51-fb5fb407adc7",
   "metadata": {},
   "source": [
    "#### true redshift + shape error"
   ]
  },
  {
   "cell_type": "markdown",
   "id": "b1f4fd49-4a5a-480a-a67c-046da6dd4b80",
   "metadata": {},
   "source": [
    "$$\n",
    "w_{\\rm ls} = \\frac{\\Sigma_{\\rm crit}(z_l, z_s)^{-2}}{\\sigma_{\\rm shapenoise}^2 + \\sigma^2_{\\rm shape\\ error}}\n",
    "$$"
   ]
  },
  {
   "cell_type": "code",
   "execution_count": null,
   "id": "ccfe5c83",
   "metadata": {},
   "outputs": [],
   "source": [
    "w_ls_shape = cl.compute_galaxy_weights(\n",
    "    z_source='ztrue', pzpdf='pzpdf', pzbins='pzbins', \n",
    "    shape_component1 = 'e1', shape_component2 = 'e2', \n",
    "    shape_component1_err = 'e_err', shape_component2_err = 'e_err', \n",
    "    use_photoz = False, use_shape_noise = True, use_shape_error = True, \n",
    "    weight_name = 'w_ls_shape', cosmo = cosmo,\n",
    "    is_deltasigma = True, add = True)"
   ]
  },
  {
   "cell_type": "markdown",
   "id": "1eb3565f-49b1-40db-986f-0294dad06ad6",
   "metadata": {},
   "source": [
    "#### photoz + shape error"
   ]
  },
  {
   "cell_type": "markdown",
   "id": "d8cdadd9-3da3-4371-9e12-684aca1d6083",
   "metadata": {},
   "source": [
    "$$\n",
    "w_{\\rm ls} = \\frac{\\left(\\int_{z_l}^{+\\infty}\\Sigma_{\\rm crit}(z_l, z)^{-1}p(z) dz\\right)^2}{\\sigma_{\\rm shapenoise}^2 + \\sigma^2_{\\rm shape\\ error}}\n",
    "$$"
   ]
  },
  {
   "cell_type": "code",
   "execution_count": null,
   "id": "5e581173",
   "metadata": {},
   "outputs": [],
   "source": [
    "w_ls_photoz_shape = cl.compute_galaxy_weights(\n",
    "    z_source='ztrue', pzpdf='pzpdf', pzbins='pzbins', \n",
    "    shape_component1 = 'e1', shape_component2 = 'e2', \n",
    "    shape_component1_err = 'e_err', shape_component2_err = 'e_err', \n",
    "    use_photoz = True, use_shape_noise = True, use_shape_error = True, \n",
    "    weight_name = 'w_ls_photoz_shape', cosmo = cosmo,\n",
    "    is_deltasigma = True, add = True)"
   ]
  },
  {
   "cell_type": "markdown",
   "id": "84764558-67df-470f-93ff-32bd5956b40d",
   "metadata": {},
   "source": [
    "The above methods add the new columns in the `cl.galcat` Table with weights and background probabilities per galaxy in each "
   ]
  },
  {
   "cell_type": "code",
   "execution_count": null,
   "id": "e0aace4d-dbfa-4919-b602-cfd30ea749d7",
   "metadata": {},
   "outputs": [],
   "source": [
    "print(cl.galcat.colnames)"
   ]
  },
  {
   "cell_type": "code",
   "execution_count": null,
   "id": "7d6749d0",
   "metadata": {},
   "outputs": [],
   "source": [
    "plt.rcParams['axes.linewidth'] = 1\n",
    "fig, ax = plt.subplots(1,2, figsize = (10,5), sharey = True)\n",
    "fig.subplots_adjust(wspace=0, hspace=0)\n",
    "ax[0].tick_params(axis='both', which = 'major', labelsize= 10)\n",
    "ax[1].tick_params(axis='both', which = 'major', labelsize= 10)\n",
    "ax[0].scatter(z_gal, 1e3*cl.galcat['w_ls_true']/np.sum(cl.galcat['w_ls_true']), c='r', label = 'True z', zorder = 100)\n",
    "ax[0].scatter(z_gal, 1e3*cl.galcat['w_ls_photoz']/np.sum(cl.galcat['w_ls_photoz']), c='orange', label = 'Photoz')\n",
    "ax[1].scatter(z_gal, 1e3*cl.galcat['w_ls_shape']/np.sum(cl.galcat['w_ls_shape']), c='royalblue', label = r'Shape_error', zorder = 100)\n",
    "ax[1].scatter(z_gal, 1e3*cl.galcat['w_ls_photoz_shape']/np.sum(cl.galcat['w_ls_photoz_shape']), c='cyan', label ='Shape_error + Photoz')\n",
    "ax[0].legend(frameon = False, fontsize = 13)\n",
    "ax[1].legend(frameon = False, fontsize = 13)\n",
    "ax[0].set_ylabel(r'$\\widehat{w}_{ls} (\\times 10^{-3})$', fontsize = 20)\n",
    "ax[0].set_xlabel('true redshift', fontsize = 14)\n",
    "ax[1].set_xlabel('true redshift', fontsize = 14)"
   ]
  },
  {
   "cell_type": "markdown",
   "id": "44f296b8-26be-4823-90e3-3efd2ac07bad",
   "metadata": {},
   "source": [
    "The figure above shows the normalized weight per galaxy $\\widehat{w}_{ls} = \\frac{w_{ls}}{\\sum _{s = 1}^N w_{ls}}$.\n",
    "- The galaxy weights increase with the true galaxy redshift (left panel, red dots), i.e. weights take account that galaxies far from the cluster are more sheared than closer ones.\n",
    "- Using true redshift (left panel, red dots), weights for foreground galaxies are 0.\n",
    "- Adding photoz's (left panel, orange dots):\n",
    "   - weights are scattered around the true redshift weigthts (when photoz's are not biased)\n",
    "   - foreground galaxies (with true redshift < $z_l$) have non-zero weights\n",
    "- Adding shape error with redshift dependency $\\sigma(z) = \\sigma_0(1 + \\alpha z)$ (right panel, blus dots), high redshift galaxies with measured shapes have smaller weights than considering true shapes (comparing to left panel, red dots).\n",
    "- when combining photoz + shape error, both effects can be seen on galaxy weights (right panel, cyan dots)."
   ]
  },
  {
   "cell_type": "markdown",
   "id": "dff3d90e",
   "metadata": {},
   "source": [
    "### Background probability"
   ]
  },
  {
   "cell_type": "code",
   "execution_count": null,
   "id": "6481f253",
   "metadata": {},
   "outputs": [],
   "source": [
    "noisy_data_z_2 = mock.generate_galaxy_catalog(1e14, cluster_z, 4, \n",
    "                                                cosmo, \n",
    "                                                zsrc = 'chang13', \n",
    "                                                #Delta_SO=200, \n",
    "                                                massdef='critical',\n",
    "                                                halo_profile_model='nfw', \n",
    "                                                zsrc_min=0.,\n",
    "                                                zsrc_max=3., \n",
    "                                                field_size=10., \n",
    "                                                shapenoise=0.5, \n",
    "                                                photoz_sigma_unscaled=0.03, \n",
    "                                                mean_e_err=.1,\n",
    "                                                ngals=10000)\n",
    "z_gal_2 = noisy_data_z_2['ztrue']\n",
    "z_gal_photoz_2 = noisy_data_z_2['pzbins']\n",
    "photoz_pdf_gal_2 = noisy_data_z_2['pzpdf']\n",
    "#add redshift dependency on shape measurement error\n",
    "noisy_data_z_2['e_err'] = noisy_data_z_2['e_err']*(1 + 0.4*noisy_data_z_2['z'])\n",
    "cl_2 = clmm.GalaxyCluster('mock_cluster', 0, 0, cluster_z, noisy_data_z_2)"
   ]
  },
  {
   "cell_type": "markdown",
   "id": "ee09f9cb-f9cb-4920-bb1f-0e9eca0e7ea7",
   "metadata": {},
   "source": [
    "The probability for a galaxy with photometric redshift of being in the background of the cluster is given by\n",
    "$$\n",
    "P(z > z_l) = \\int_{z_l}^{+\\infty} dz\\ p(z) \n",
    "$$"
   ]
  },
  {
   "cell_type": "code",
   "execution_count": null,
   "id": "8e4e4fcf-84d3-43d6-8bb3-498b5f8121c4",
   "metadata": {},
   "outputs": [],
   "source": [
    "p_background_true = cl.compute_background_probability(z_source='ztrue', pzpdf=None, pzbins=None,\n",
    "                                       use_photoz=False, p_background_name='p_background_true',\n",
    "                                       add=True)"
   ]
  },
  {
   "cell_type": "code",
   "execution_count": null,
   "id": "3753c288-4a93-40a7-9eb4-efe0bd658f37",
   "metadata": {},
   "outputs": [],
   "source": [
    "p_background_photoz_1 = cl.compute_background_probability(z_source='ztrue', pzpdf='pzpdf', pzbins='pzbins',\n",
    "                                       use_photoz=True, p_background_name='p_background_photoz_1',\n",
    "                                       add=True)"
   ]
  },
  {
   "cell_type": "code",
   "execution_count": null,
   "id": "ffe9ee72",
   "metadata": {},
   "outputs": [],
   "source": [
    "p_background_photoz_2 = cl_2.compute_background_probability(z_source='ztrue', pzpdf='pzpdf', pzbins='pzbins',\n",
    "                                       use_photoz=True, p_background_name='p_background_photoz_2',\n",
    "                                       add=True)"
   ]
  },
  {
   "cell_type": "code",
   "execution_count": null,
   "id": "cc7b66f7",
   "metadata": {},
   "outputs": [],
   "source": [
    "plt.rcParams['axes.linewidth'] = 1\n",
    "plt.figure( figsize = (7,5))\n",
    "plt.tick_params(axis='both', which = 'major', labelsize= 10)\n",
    "plt.plot([],[],' ', label = f'$z_l = {cluster_z}$', )\n",
    "plt.scatter(z_gal, p_background_photoz_1, c='royalblue', label = r'$\\sigma_z = 0.05$')\n",
    "plt.scatter(z_gal_2, p_background_photoz_2, c='cyan', label = r'$\\sigma_z = 0.03$')\n",
    "plt.vlines(cluster_z, 0,1,color='salmon', linewidth = 4, zorder = 100)\n",
    "plt.scatter(z_gal, p_background_true, c='salmon', s = 3, zorder = 110)\n",
    "plt.plot([],[], label = 'True z', linewidth = 4, c = 'salmon')\n",
    "plt.xlim(0., 1)\n",
    "plt.legend(frameon = True, fontsize = 20)\n",
    "plt.ylabel(r'$P(z_s > z_l)$', fontsize = 20)\n",
    "plt.xlabel('true redshift', fontsize = 20)"
   ]
  },
  {
   "cell_type": "markdown",
   "id": "5cb9e668-5f92-4614-a04a-b2c7d020b27b",
   "metadata": {},
   "source": [
    "The figure above shows the background probability $P(z > z_l)$ for each galaxy.\n",
    "- When using true redshift, the background probability is a Heavyside function centered on $z_s$ (orange curve), i.e. $p(z) = \\delta^D(z-z_s)$.\n",
    "- when using photometric redshift (cyan and blue dots), galaxies on the foreground of the cluster have non-zero probability to be in the background. Idem, for close galaxies in the background, the probability in being in the foreground is non-zero."
   ]
  }
 ],
 "metadata": {
  "kernelspec": {
   "display_name": "Python 3 (ipykernel)",
   "language": "python",
   "name": "python3"
  },
  "language_info": {
   "codemirror_mode": {
    "name": "ipython",
    "version": 3
   },
   "file_extension": ".py",
   "mimetype": "text/x-python",
   "name": "python",
   "nbconvert_exporter": "python",
   "pygments_lexer": "ipython3",
   "version": "3.8.10"
  }
 },
 "nbformat": 4,
 "nbformat_minor": 5
}
